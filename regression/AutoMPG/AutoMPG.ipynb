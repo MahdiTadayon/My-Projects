{
 "cells": [
  {
   "cell_type": "markdown",
   "id": "04caf1e6",
   "metadata": {},
   "source": [
    "# Auto MPG"
   ]
  },
  {
   "cell_type": "markdown",
   "id": "7ef91dac",
   "metadata": {},
   "source": [
    "**Dataset Characteristics** : Multivariate\n",
    "\n",
    "**Subject Area** : Other\n",
    "\n",
    "\n",
    "**Associated Tasks** : Regression\n",
    "\n",
    "\n",
    "**Attribute Type** : Categorical, Real\n",
    "\n",
    "\n",
    "**Instances** : 398\n",
    "\n",
    "\n",
    "**Attributes** : 7\n",
    "\n",
    "**Attribute Information :**\n",
    "* **mpg** :           continuous\n",
    "* **cylinders** :     multi-valued discrete\n",
    "* **displacement** :  continuous\n",
    "* **horsepower** :    continuous\n",
    "* **weight** :        continuous\n",
    "* **acceleration** :  continuous\n",
    "* **model year** :    multi-valued discrete\n",
    "* **origin** :        multi-valued discrete\n",
    "* **car name** :      string (unique for each instance)"
   ]
  }
 ],
 "metadata": {
  "kernelspec": {
   "display_name": "Python 3 (ipykernel)",
   "language": "python",
   "name": "python3"
  },
  "language_info": {
   "codemirror_mode": {
    "name": "ipython",
    "version": 3
   },
   "file_extension": ".py",
   "mimetype": "text/x-python",
   "name": "python",
   "nbconvert_exporter": "python",
   "pygments_lexer": "ipython3",
   "version": "3.9.5"
  }
 },
 "nbformat": 4,
 "nbformat_minor": 5
}
